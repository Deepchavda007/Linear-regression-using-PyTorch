{
  "cells": [
    {
      "cell_type": "markdown",
      "metadata": {
        "id": "view-in-github",
        "colab_type": "text"
      },
      "source": [
        "<a href=\"https://colab.research.google.com/github/Deepchavda007/Linear-regression-using-PyTorch/blob/main/Linear_regression_using_PyTorch_built_ins.ipynb\" target=\"_parent\"><img src=\"https://colab.research.google.com/assets/colab-badge.svg\" alt=\"Open In Colab\"/></a>"
      ]
    },
    {
      "cell_type": "markdown",
      "id": "8e670284",
      "metadata": {
        "id": "8e670284"
      },
      "source": [
        "## Linear regression using PyTorch built-ins\n",
        "\n",
        "We've implemented linear regression & gradient descent model using some basic tensor operations. However, since this is a common pattern in deep learning, PyTorch provides several built-in functions and classes to make it easy to create and train models with just a few lines of code.\n",
        "\n",
        "Let's begin by importing the `torch.nn` package from PyTorch, which contains utility classes for building neural networks."
      ]
    },
    {
      "cell_type": "code",
      "execution_count": null,
      "id": "586a1a5f",
      "metadata": {
        "id": "586a1a5f"
      },
      "outputs": [],
      "source": [
        "import torch.nn as nn\n",
        "import numpy as np\n",
        "import torch as t"
      ]
    },
    {
      "cell_type": "code",
      "execution_count": null,
      "id": "23afda22",
      "metadata": {
        "id": "23afda22"
      },
      "outputs": [],
      "source": [
        "# Input (temp, rainfall, humidity)\n",
        "inputs = np.array([[73, 67, 43], \n",
        "                   [91, 88, 64], \n",
        "                   [87, 134, 58], \n",
        "                   [102, 43, 37], \n",
        "                   [69, 96, 70], \n",
        "                   [74, 66, 43], \n",
        "                   [91, 87, 65], \n",
        "                   [88, 134, 59], \n",
        "                   [101, 44, 37], \n",
        "                   [68, 96, 71], \n",
        "                   [73, 66, 44], \n",
        "                   [92, 87, 64], \n",
        "                   [87, 135, 57], \n",
        "                   [103, 43, 36], \n",
        "                   [68, 97, 70]], \n",
        "                  dtype='float32')\n",
        "\n",
        "# Targets (apples, oranges)\n",
        "targets = np.array([[56, 70], \n",
        "                    [81, 101], \n",
        "                    [119, 133], \n",
        "                    [22, 37], \n",
        "                    [103, 119],\n",
        "                    [57, 69], \n",
        "                    [80, 102], \n",
        "                    [118, 132], \n",
        "                    [21, 38], \n",
        "                    [104, 118], \n",
        "                    [57, 69], \n",
        "                    [82, 100], \n",
        "                    [118, 134], \n",
        "                    [20, 38], \n",
        "                    [102, 120]], \n",
        "                   dtype='float32')\n",
        "\n",
        "inputs = t.from_numpy(inputs)\n",
        "targets = t.from_numpy(targets)"
      ]
    },
    {
      "cell_type": "markdown",
      "id": "707f1069",
      "metadata": {
        "id": "707f1069"
      },
      "source": [
        "## Dataset and DataLoader\n",
        "\n",
        "We'll create a `TensorDataset`, which allows access to rows from `inputs` and `targets` as tuples, and provides standard APIs for working with many different types of datasets in PyTorch."
      ]
    },
    {
      "cell_type": "code",
      "execution_count": null,
      "id": "a44e75b8",
      "metadata": {
        "id": "a44e75b8"
      },
      "outputs": [],
      "source": [
        "from torch.utils.data import TensorDataset"
      ]
    },
    {
      "cell_type": "code",
      "execution_count": null,
      "id": "3d089152",
      "metadata": {
        "colab": {
          "base_uri": "https://localhost:8080/"
        },
        "id": "3d089152",
        "outputId": "6173c256-8f33-4c71-e7ed-d912d0c1d9cc"
      },
      "outputs": [
        {
          "output_type": "execute_result",
          "data": {
            "text/plain": [
              "(tensor([[ 73.,  67.,  43.],\n",
              "         [ 91.,  88.,  64.],\n",
              "         [ 87., 134.,  58.]]), tensor([[ 56.,  70.],\n",
              "         [ 81., 101.],\n",
              "         [119., 133.]]))"
            ]
          },
          "metadata": {},
          "execution_count": 4
        }
      ],
      "source": [
        "# define datasets\n",
        "train_ds = TensorDataset(inputs,targets)\n",
        "train_ds[0:3]"
      ]
    },
    {
      "cell_type": "markdown",
      "id": "e87279cc",
      "metadata": {
        "id": "e87279cc"
      },
      "source": [
        "We'll also create a `DataLoader`, which can split the data into batches of a predefined size while training. It also provides other utilities like shuffling and random sampling of the data."
      ]
    },
    {
      "cell_type": "code",
      "execution_count": null,
      "id": "f1254393",
      "metadata": {
        "id": "f1254393"
      },
      "outputs": [],
      "source": [
        "from torch.utils.data import DataLoader"
      ]
    },
    {
      "cell_type": "code",
      "execution_count": null,
      "id": "7e740a79",
      "metadata": {
        "id": "7e740a79"
      },
      "outputs": [],
      "source": [
        "batch_size = 5\n",
        "train_dl = DataLoader(train_ds,batch_size,shuffle=True)"
      ]
    },
    {
      "cell_type": "code",
      "execution_count": null,
      "id": "d1a37d39",
      "metadata": {
        "colab": {
          "base_uri": "https://localhost:8080/"
        },
        "id": "d1a37d39",
        "outputId": "e8a881b6-bade-4a69-82e6-cafed6bc4a6c"
      },
      "outputs": [
        {
          "output_type": "stream",
          "name": "stdout",
          "text": [
            "tensor([[73., 67., 43.],\n",
            "        [68., 96., 71.],\n",
            "        [74., 66., 43.],\n",
            "        [68., 97., 70.],\n",
            "        [69., 96., 70.]])\n",
            "tensor([[ 56.,  70.],\n",
            "        [104., 118.],\n",
            "        [ 57.,  69.],\n",
            "        [102., 120.],\n",
            "        [103., 119.]])\n"
          ]
        }
      ],
      "source": [
        "# We can use the data loader in a for loop. Let's look at an example\n",
        "\n",
        "for xb,yb in train_dl:\n",
        "    print(xb)\n",
        "    print(yb)\n",
        "    break"
      ]
    },
    {
      "cell_type": "markdown",
      "id": "129f6de9",
      "metadata": {
        "id": "129f6de9"
      },
      "source": [
        "If `shuffle` is set to `True`, it shuffles the training data before creating batches. Shuffling helps randomize the input to the optimization algorithm, leading to a faster reduction in the loss."
      ]
    },
    {
      "cell_type": "markdown",
      "id": "de8005e8",
      "metadata": {
        "id": "de8005e8"
      },
      "source": [
        "## nn.Linear\n",
        "\n",
        "Instead of initializing the weights & biases manually, we can define the model using the `nn.Linear` class from PyTorch, which does it automatically."
      ]
    },
    {
      "cell_type": "code",
      "execution_count": null,
      "id": "75022b4e",
      "metadata": {
        "colab": {
          "base_uri": "https://localhost:8080/"
        },
        "id": "75022b4e",
        "outputId": "b309f433-c118-4bca-d3cb-667556b91a68"
      },
      "outputs": [
        {
          "output_type": "stream",
          "name": "stdout",
          "text": [
            "Parameter containing:\n",
            "tensor([[-0.5047, -0.5168,  0.0841],\n",
            "        [-0.2725,  0.5279, -0.2256]], requires_grad=True)\n",
            "Parameter containing:\n",
            "tensor([-0.1164,  0.2040], requires_grad=True)\n"
          ]
        }
      ],
      "source": [
        "# Define model\n",
        "\n",
        "model = nn.Linear(3,2)\n",
        "print(model.weight)\n",
        "print(model.bias)"
      ]
    },
    {
      "cell_type": "markdown",
      "id": "72933169",
      "metadata": {
        "id": "72933169"
      },
      "source": [
        "PyTorch models also have a helpful `.parameters` method, which returns a list containing all the weights and bias matrices present in the model. For our linear regression model, we have one weight matrix and one bias matrix."
      ]
    },
    {
      "cell_type": "code",
      "execution_count": null,
      "id": "71c20322",
      "metadata": {
        "colab": {
          "base_uri": "https://localhost:8080/"
        },
        "id": "71c20322",
        "outputId": "d12855c4-ce21-4826-836a-e91cec9745be"
      },
      "outputs": [
        {
          "output_type": "execute_result",
          "data": {
            "text/plain": [
              "[Parameter containing:\n",
              " tensor([[-0.5047, -0.5168,  0.0841],\n",
              "         [-0.2725,  0.5279, -0.2256]], requires_grad=True),\n",
              " Parameter containing:\n",
              " tensor([-0.1164,  0.2040], requires_grad=True)]"
            ]
          },
          "metadata": {},
          "execution_count": 9
        }
      ],
      "source": [
        "# Parameters\n",
        "\n",
        "list(model.parameters())"
      ]
    },
    {
      "cell_type": "code",
      "execution_count": null,
      "id": "ea01104d",
      "metadata": {
        "colab": {
          "base_uri": "https://localhost:8080/"
        },
        "id": "ea01104d",
        "outputId": "49f3efd8-b7c2-4a6c-92a3-5b7eb7563206"
      },
      "outputs": [
        {
          "output_type": "execute_result",
          "data": {
            "text/plain": [
              "tensor([[ -67.9640,    5.9799],\n",
              "        [ -86.1340,    7.4235],\n",
              "        [-108.3908,   34.1525],\n",
              "        [ -70.7016,  -13.2411],\n",
              "        [ -78.6609,   16.2897],\n",
              "        [ -67.9519,    5.1794],\n",
              "        [ -85.5332,    6.6700],\n",
              "        [-108.8114,   33.6544],\n",
              "        [ -70.7137,  -12.4406],\n",
              "        [ -78.0721,   16.3366],\n",
              "        [ -67.3631,    5.2264],\n",
              "        [ -86.1219,    6.6231],\n",
              "        [-108.9917,   34.9060],\n",
              "        [ -71.2904,  -13.2881],\n",
              "        [ -78.6730,   17.0901]], grad_fn=<AddmmBackward0>)"
            ]
          },
          "metadata": {},
          "execution_count": 10
        }
      ],
      "source": [
        "preds = model(inputs)\n",
        "preds"
      ]
    },
    {
      "cell_type": "markdown",
      "id": "e8e3dc14",
      "metadata": {
        "id": "e8e3dc14"
      },
      "source": [
        "## Loss Function\n",
        "\n",
        "* Instead of defining a loss function manually, we can use the built-in loss function `mse_loss`.\n",
        "\n",
        "* The `nn.functional` package contains many useful loss functions and several other utilities.\n",
        " "
      ]
    },
    {
      "cell_type": "code",
      "execution_count": null,
      "id": "342ee086",
      "metadata": {
        "id": "342ee086"
      },
      "outputs": [],
      "source": [
        "import torch.nn.functional as F"
      ]
    },
    {
      "cell_type": "code",
      "execution_count": null,
      "id": "80ad2175",
      "metadata": {
        "id": "80ad2175"
      },
      "outputs": [],
      "source": [
        "# Define the loss function\n",
        "loss_fn = F.mse_loss"
      ]
    },
    {
      "cell_type": "code",
      "execution_count": null,
      "id": "e5a7091a",
      "metadata": {
        "colab": {
          "base_uri": "https://localhost:8080/"
        },
        "id": "e5a7091a",
        "outputId": "e584468e-788e-44ae-8d59-c292cc36d514"
      },
      "outputs": [
        {
          "output_type": "execute_result",
          "data": {
            "text/plain": [
              "tensor(17203.0957, grad_fn=<MseLossBackward0>)"
            ]
          },
          "metadata": {},
          "execution_count": 13
        }
      ],
      "source": [
        "# Let's compute the loss for the current predictions of our model\n",
        "loss = loss_fn(preds,targets)\n",
        "loss"
      ]
    },
    {
      "cell_type": "markdown",
      "id": "25d6da08",
      "metadata": {
        "id": "25d6da08"
      },
      "source": [
        "## Optimizer\n",
        "\n",
        "* Instead of manually manipulating the model's weights & biases using gradients, we can use the optimizer `optim.SGD`. SGD is short for \"stochastic gradient descent\". The term _stochastic_ indicates that samples are selected in random batches instead of as a single group.\n",
        "\n",
        "\n",
        "* Note that `model.parameters()` is passed as an argument to `optim.SGD` so that the optimizer knows which matrices should be modified during the update step. Also, we can specify a learning rate that controls the amount by which the parameters are modified."
      ]
    },
    {
      "cell_type": "code",
      "execution_count": null,
      "id": "d963f95d",
      "metadata": {
        "id": "d963f95d"
      },
      "outputs": [],
      "source": [
        "# Define optimizer\n",
        "opt = t.optim.SGD(model.parameters(), lr=1e-5)"
      ]
    },
    {
      "cell_type": "markdown",
      "id": "d80a5bf9",
      "metadata": {
        "id": "d80a5bf9"
      },
      "source": [
        "## Train the model\n",
        "\n",
        "We are now ready to train the model. We'll follow the same process to implement gradient descent:\n",
        "\n",
        "1. Generate predictions\n",
        "\n",
        "2. Calculate the loss\n",
        "\n",
        "3. Compute gradients w.r.t the weights and biases\n",
        "\n",
        "4. Adjust the weights by subtracting a small quantity proportional to the gradient\n",
        "\n",
        "5. Reset the gradients to zero\n",
        "\n",
        "The only change is that we'll work batches of data instead of processing the entire training data in every iteration. Let's define a utility function `fit` that trains the model for a given number of epochs."
      ]
    },
    {
      "cell_type": "code",
      "execution_count": null,
      "id": "a231994e",
      "metadata": {
        "id": "a231994e"
      },
      "outputs": [],
      "source": [
        "# Utility function to train the model\n",
        "def fit(num_epochs, model, loss_fn, opt, train_dl):\n",
        "    \n",
        "    # Repeat for given number of epochs\n",
        "    for epoch in range(num_epochs):\n",
        "        \n",
        "        # Train with batches of data\n",
        "        for xb,yb in train_dl:\n",
        "            \n",
        "            # 1. Generate predictions\n",
        "            pred = model(xb)\n",
        "            \n",
        "            # 2. Calculate loss\n",
        "            loss = loss_fn(pred, yb)\n",
        "            \n",
        "            # 3. Compute gradients\n",
        "            loss.backward()\n",
        "            \n",
        "            # 4. Update parameters using gradients\n",
        "            opt.step()\n",
        "            \n",
        "            # 5. Reset the gradients to zero\n",
        "            opt.zero_grad()\n",
        "        \n",
        "        # Print the progress\n",
        "        if (epoch+1) % 10 == 0:\n",
        "            print('Epoch [{}/{}], Loss: {:.4f}'.format(epoch+1, num_epochs, loss.item()))"
      ]
    },
    {
      "cell_type": "markdown",
      "id": "c5219db4",
      "metadata": {
        "id": "c5219db4"
      },
      "source": [
        "Some things to note above:\n",
        "\n",
        "* We use the data loader defined earlier to get batches of data for every iteration.\n",
        "\n",
        "* Instead of updating parameters (weights and biases) manually, we use `opt.step` to perform the update and `opt.zero_grad` to reset the gradients to zero.\n",
        "\n",
        "* We've also added a log statement that prints the loss from the last batch of data for every 10th epoch to track training progress. `loss.item` returns the actual value stored in the loss tensor.\n",
        "\n"
      ]
    },
    {
      "cell_type": "code",
      "execution_count": null,
      "id": "fb510644",
      "metadata": {
        "colab": {
          "base_uri": "https://localhost:8080/"
        },
        "id": "fb510644",
        "outputId": "ca1a7701-119b-4eac-cf4a-d4336550c0f0"
      },
      "outputs": [
        {
          "output_type": "stream",
          "name": "stdout",
          "text": [
            "Epoch [10/150], Loss: 186.0129\n",
            "Epoch [20/150], Loss: 159.9290\n",
            "Epoch [30/150], Loss: 118.5764\n",
            "Epoch [40/150], Loss: 47.0545\n",
            "Epoch [50/150], Loss: 82.2243\n",
            "Epoch [60/150], Loss: 56.2823\n",
            "Epoch [70/150], Loss: 60.3355\n",
            "Epoch [80/150], Loss: 48.8281\n",
            "Epoch [90/150], Loss: 28.9398\n",
            "Epoch [100/150], Loss: 34.4484\n",
            "Epoch [110/150], Loss: 25.6473\n",
            "Epoch [120/150], Loss: 26.5246\n",
            "Epoch [130/150], Loss: 35.3602\n",
            "Epoch [140/150], Loss: 26.9102\n",
            "Epoch [150/150], Loss: 16.2935\n"
          ]
        }
      ],
      "source": [
        "fit(150,model,loss_fn,opt,train_dl)"
      ]
    },
    {
      "cell_type": "code",
      "execution_count": null,
      "id": "9eaa255a",
      "metadata": {
        "colab": {
          "base_uri": "https://localhost:8080/"
        },
        "id": "9eaa255a",
        "outputId": "7f82fc59-5b51-447e-931d-1e53204db9ae"
      },
      "outputs": [
        {
          "output_type": "execute_result",
          "data": {
            "text/plain": [
              "tensor([[ 57.3191,  71.1391],\n",
              "        [ 82.1265,  96.7869],\n",
              "        [117.3750, 141.0075],\n",
              "        [ 23.0612,  40.7520],\n",
              "        [100.6939, 110.2027],\n",
              "        [ 56.1346,  69.9934],\n",
              "        [ 81.9742,  96.1483],\n",
              "        [117.6824, 141.2126],\n",
              "        [ 24.2457,  41.8977],\n",
              "        [101.7260, 110.7098],\n",
              "        [ 57.1667,  70.5005],\n",
              "        [ 80.9421,  95.6412],\n",
              "        [117.5273, 141.6460],\n",
              "        [ 22.0291,  40.2449],\n",
              "        [101.8784, 111.3483]], grad_fn=<AddmmBackward0>)"
            ]
          },
          "metadata": {},
          "execution_count": 17
        }
      ],
      "source": [
        "# Generate predictions\n",
        "preds = model(inputs)\n",
        "preds"
      ]
    },
    {
      "cell_type": "code",
      "execution_count": null,
      "id": "b685f8ae",
      "metadata": {
        "colab": {
          "base_uri": "https://localhost:8080/"
        },
        "id": "b685f8ae",
        "outputId": "5030665d-a5a2-41ce-944c-8d47eb38ea42"
      },
      "outputs": [
        {
          "output_type": "execute_result",
          "data": {
            "text/plain": [
              "tensor([[ 56.,  70.],\n",
              "        [ 81., 101.],\n",
              "        [119., 133.],\n",
              "        [ 22.,  37.],\n",
              "        [103., 119.],\n",
              "        [ 57.,  69.],\n",
              "        [ 80., 102.],\n",
              "        [118., 132.],\n",
              "        [ 21.,  38.],\n",
              "        [104., 118.],\n",
              "        [ 57.,  69.],\n",
              "        [ 82., 100.],\n",
              "        [118., 134.],\n",
              "        [ 20.,  38.],\n",
              "        [102., 120.]])"
            ]
          },
          "metadata": {},
          "execution_count": 18
        }
      ],
      "source": [
        "targets"
      ]
    },
    {
      "cell_type": "code",
      "execution_count": null,
      "id": "6f2386b6",
      "metadata": {
        "colab": {
          "base_uri": "https://localhost:8080/"
        },
        "id": "6f2386b6",
        "outputId": "eed04dc0-20e3-4e22-98ea-2d81992c3b94"
      },
      "outputs": [
        {
          "output_type": "execute_result",
          "data": {
            "text/plain": [
              "tensor([[53.9756, 67.2146]], grad_fn=<AddmmBackward0>)"
            ]
          },
          "metadata": {},
          "execution_count": 19
        }
      ],
      "source": [
        "model(t.tensor([[75, 63, 44.]]))"
      ]
    },
    {
      "cell_type": "code",
      "execution_count": null,
      "id": "4d2f1ee1",
      "metadata": {
        "id": "4d2f1ee1"
      },
      "outputs": [],
      "source": [
        ""
      ]
    }
  ],
  "metadata": {
    "kernelspec": {
      "display_name": "Python 3",
      "language": "python",
      "name": "python3"
    },
    "language_info": {
      "codemirror_mode": {
        "name": "ipython",
        "version": 3
      },
      "file_extension": ".py",
      "mimetype": "text/x-python",
      "name": "python",
      "nbconvert_exporter": "python",
      "pygments_lexer": "ipython3",
      "version": "3.8.8"
    },
    "colab": {
      "name": "Linear regression using PyTorch built-ins.ipynb",
      "provenance": [],
      "collapsed_sections": [],
      "include_colab_link": true
    }
  },
  "nbformat": 4,
  "nbformat_minor": 5
}